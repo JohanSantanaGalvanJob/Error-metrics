{
  "nbformat": 4,
  "nbformat_minor": 0,
  "metadata": {
    "colab": {
      "provenance": [],
      "include_colab_link": true
    },
    "kernelspec": {
      "name": "python3",
      "display_name": "Python 3"
    },
    "language_info": {
      "name": "python"
    }
  },
  "cells": [
    {
      "cell_type": "markdown",
      "metadata": {
        "id": "view-in-github",
        "colab_type": "text"
      },
      "source": [
        "<a href=\"https://colab.research.google.com/github/JohanSantanaGalvanJob/Error-metrics/blob/main/Metricas_de_error_JOHAN_SANTANA_GALVAN.ipynb\" target=\"_parent\"><img src=\"https://colab.research.google.com/assets/colab-badge.svg\" alt=\"Open In Colab\"/></a>"
      ]
    },
    {
      "cell_type": "markdown",
      "source": [
        "JOHAN SANTANA GALVÁN"
      ],
      "metadata": {
        "id": "LfX8-lYf3osv"
      }
    },
    {
      "cell_type": "markdown",
      "source": [
        "23_24\n",
        "\n",
        "Actividad 3.1 - Métricas de error para los problemas de regresión\n",
        "\n",
        "A partir de los ejemplos indicados realizar los ejercicios propuestos"
      ],
      "metadata": {
        "id": "irnc2RYVuYVU"
      }
    },
    {
      "cell_type": "code",
      "execution_count": 2,
      "metadata": {
        "colab": {
          "base_uri": "https://localhost:8080/"
        },
        "id": "jVLFdfzxdsfG",
        "outputId": "94f4bfca-afa0-4d32-f451-01301ce28d7b"
      },
      "outputs": [
        {
          "output_type": "execute_result",
          "data": {
            "text/plain": [
              "0.0"
            ]
          },
          "metadata": {},
          "execution_count": 2
        }
      ],
      "source": [
        "#Error absoluto medio - mae\n",
        "from sklearn.metrics import mean_absolute_error\n",
        "from sklearn.metrics import mean_squared_error\n",
        "from math import sqrt\n",
        "# Ejemplo 1\n",
        "y_true = [2.5, 0, 2, 8]\n",
        "y_pred = [2.5, 0, 2, 8]\n",
        "mean_absolute_error(y_true, y_pred)\n"
      ]
    },
    {
      "cell_type": "code",
      "source": [
        "# Ejer 1: Crear dos vectores/arrays de valores ciertos y valores previstos, y calcular el mae.\n",
        "# ¿Qué valores deberían de tener el array pred para que el error fuese 0? ¿y para que error fuese de 0.25?\n",
        "valores_cierto = [[5, 8, 12, 15, 18]]\n",
        "valores_pred = [[6, 9, 11, 16, 17]]\n",
        "mae = mean_absolute_error(valores_cierto, valores_pred)\n",
        "print(mae)\n",
        "\n",
        "# Para que de mae = 0 los array tienen que ser iguales\n",
        "valores_pred = [[5, 8, 12, 15, 18]]\n",
        "mae = mean_absolute_error(valores_cierto, valores_pred)\n",
        "print(mae)\n",
        "\n",
        "# Para que de mae = 0.25 los array tienen que tener una diferencia de 0.25\n",
        "valores_pred = [[5.25, 8.25, 12.25, 15.25, 18.25]]\n",
        "mae = mean_absolute_error(valores_cierto, valores_pred)\n",
        "print(mae)"
      ],
      "metadata": {
        "id": "67XK1bXegMai",
        "colab": {
          "base_uri": "https://localhost:8080/"
        },
        "outputId": "e71ee7ab-9bf5-4c11-ca2a-c7fd438b997d"
      },
      "execution_count": 3,
      "outputs": [
        {
          "output_type": "stream",
          "name": "stdout",
          "text": [
            "1.0\n",
            "0.0\n",
            "0.25\n"
          ]
        }
      ]
    },
    {
      "cell_type": "code",
      "source": [
        "# Ejemplo 2\n",
        "y_true = [[0.5, 1], [-1, 1], [7, -6]]\n",
        "y_pred = [[0, 2], [-1, 2], [8, -5]]\n",
        "mean_absolute_error(y_true, y_pred)"
      ],
      "metadata": {
        "id": "3LhzsD30f60T",
        "colab": {
          "base_uri": "https://localhost:8080/"
        },
        "outputId": "adddbf55-c054-430d-b167-34aa65c34295"
      },
      "execution_count": 4,
      "outputs": [
        {
          "output_type": "execute_result",
          "data": {
            "text/plain": [
              "0.75"
            ]
          },
          "metadata": {},
          "execution_count": 4
        }
      ]
    },
    {
      "cell_type": "code",
      "source": [
        "# Ejer 2: Crear dos matrices/arrays de valores ciertos y valores previstos, y calcular el mae.\n",
        "# ¿Qué valores deberían de tener el array pred para que el error fuese 0? ¿y para que error fuese de 0.33?\n",
        "valores_cierto = [[5, 8], [12, 15], [18, 21]]\n",
        "valores_pred = [[6, 9], [11, 16], [17,22]]\n",
        "mae = mean_absolute_error(valores_cierto, valores_pred)\n",
        "print(mae)\n",
        "\n",
        "# Para que de mae = 0 los array tienen que ser iguales\n",
        "valores_pred = [[5, 8], [12, 15], [18,21]]\n",
        "mae = mean_absolute_error(valores_cierto, valores_pred)\n",
        "print(mae)\n",
        "\n",
        "# Para que de mae = 0.33 los array tienen que tener una diferencia de 0.33\n",
        "valores_pred = [[5.33, 8.33], [12.33, 15.33], [18.33,21.33]]\n",
        "mae = round(mean_absolute_error(valores_cierto, valores_pred),2)\n",
        "print(mae)"
      ],
      "metadata": {
        "id": "LnPx6A4Astfq",
        "colab": {
          "base_uri": "https://localhost:8080/"
        },
        "outputId": "11938b50-a476-4fc4-f92c-f87b9ef7a972"
      },
      "execution_count": 5,
      "outputs": [
        {
          "output_type": "stream",
          "name": "stdout",
          "text": [
            "1.0\n",
            "0.0\n",
            "0.33\n"
          ]
        }
      ]
    },
    {
      "cell_type": "code",
      "source": [
        "# Error cuadrático medio - mse\n",
        "from sklearn.metrics import mean_squared_error\n",
        "y_true = [3, -0.5, 2, 7]\n",
        "y_pred = [2.5, 0.0, 2, 8]\n",
        "mean_squared_error(y_true, y_pred)\n"
      ],
      "metadata": {
        "colab": {
          "base_uri": "https://localhost:8080/"
        },
        "id": "59efr-GWgKP6",
        "outputId": "b469c087-64ff-45f3-fa72-622ece730688"
      },
      "execution_count": 6,
      "outputs": [
        {
          "output_type": "execute_result",
          "data": {
            "text/plain": [
              "0.375"
            ]
          },
          "metadata": {},
          "execution_count": 6
        }
      ]
    },
    {
      "cell_type": "code",
      "source": [
        "# Ejer 3: Crear dos vectores/arrays de valores ciertos y valores previstos, y calcular el mse.\n",
        "# ¿Qué valores deberían de tener el array pred para que el error fuese 0? ¿y para que error fuese de 0.25?\n",
        "# Nota: Es muy interesante comparar los resultados al aplicaer mae y mse sobre el mismo conjunto de datos. Podrás obervar\n",
        "#       que mse \"penaliza más\" (es decir, el número que se obtiene es mayor) con las diferencias entre los valores originales y los predichos que mae\n",
        "\n",
        "valores_cierto = [[5, 8, 12, 15, 18]]\n",
        "valores_pred = [[6, 9, 11, 16, 17]]\n",
        "mse = mean_squared_error(valores_cierto, valores_pred)\n",
        "print(mse)\n",
        "\n",
        "# Para que de mse = 0 los array tienen que ser iguales\n",
        "valores_pred = [[5, 8, 12, 15, 18]]\n",
        "mse = mean_squared_error(valores_cierto, valores_pred)\n",
        "print(mse)\n",
        "\n",
        "# Para que de mse = 0.25 los array tienen que tener una diferencia de 0.5 porque la raíz cuadrada de 0.25 es 0.5\n",
        "valores_pred = [[5 + sqrt(0.25), 8 + sqrt(0.25), 12 + sqrt(0.25), 15 + sqrt(0.25), 18 + sqrt(0.25)]]\n",
        "mse = mean_squared_error(valores_cierto, valores_pred)\n",
        "print(mse)\n"
      ],
      "metadata": {
        "id": "FLZt6j17u7sE",
        "colab": {
          "base_uri": "https://localhost:8080/"
        },
        "outputId": "0799d1b5-203a-43fd-91f9-80692c505282"
      },
      "execution_count": 8,
      "outputs": [
        {
          "output_type": "stream",
          "name": "stdout",
          "text": [
            "1.0\n",
            "0.0\n",
            "0.25\n"
          ]
        }
      ]
    },
    {
      "cell_type": "markdown",
      "source": [],
      "metadata": {
        "id": "dl7ZI_FE3npU"
      }
    },
    {
      "cell_type": "code",
      "source": [
        "# Ejer 4: Crear dos matrices/arrays de valores ciertos y valores previstos, y calcular el mae.\n",
        "# ¿Qué valores deberían de tener el array pred para que el error fuese 0? ¿y para que error fuese de 0.33?\n",
        "valores_cierto = [[5, 8], [12, 15], [18, 21]]\n",
        "valores_pred = [[6, 9], [11, 16], [17,22]]\n",
        "mse = mean_squared_error(valores_cierto, valores_pred)\n",
        "print(mse)\n",
        "\n",
        "# Para que de mse = 0 los array tienen que ser iguales\n",
        "valores_pred = [[5, 8], [12, 15], [18,21]]\n",
        "mse = mean_squared_error(valores_cierto, valores_pred)\n",
        "print(mse)\n",
        "\n",
        "# Para que de mse = 0.33 los array tienen que tener una diferencia raíz cuadrada de 0,33\n",
        "valores_pred = [[5 + sqrt(0.33), 8 + sqrt(0.33)], [12 + sqrt(0.33), 15 + sqrt(0.33)], [18 + sqrt(0.33),21 + sqrt(0.33)]]\n",
        "mse = round(mean_squared_error(valores_cierto, valores_pred),2)\n",
        "print(mse)"
      ],
      "metadata": {
        "id": "M9nZd4nLvIRB",
        "colab": {
          "base_uri": "https://localhost:8080/"
        },
        "outputId": "51a22674-e4c8-415d-8515-10ac006ac674"
      },
      "execution_count": 9,
      "outputs": [
        {
          "output_type": "stream",
          "name": "stdout",
          "text": [
            "1.0\n",
            "0.0\n",
            "0.33\n"
          ]
        }
      ]
    },
    {
      "cell_type": "code",
      "source": [
        "# Error de porcentaje absoluto medio - mape\n",
        "from sklearn.metrics import mean_absolute_percentage_error\n",
        "y_true = [3, -0.5, 2, 7]\n",
        "y_pred = [2.5, 0.0, 2, 8]\n",
        "mean_absolute_percentage_error(y_true, y_pred)"
      ],
      "metadata": {
        "colab": {
          "base_uri": "https://localhost:8080/"
        },
        "id": "0j3DDJPnBTmF",
        "outputId": "7d0d1e00-aed0-4dc7-85f6-9dbb79db2cf5"
      },
      "execution_count": 10,
      "outputs": [
        {
          "output_type": "execute_result",
          "data": {
            "text/plain": [
              "0.3273809523809524"
            ]
          },
          "metadata": {},
          "execution_count": 10
        }
      ]
    },
    {
      "cell_type": "code",
      "source": [
        "# Ejer 5: Crear dos vectores/arrays de valores ciertos y valores previstos, y calcular el mape.\n",
        "# ¿Qué valores deberían de tener el array pred para que el error fuese 0?\n",
        "\n",
        "# En este caso el mape sera de un 11% aproximadamente porque mape calcula cuánto de grande es los valores predichos con respecto a los grandes\n",
        "valores_cierto = [[5.2, 8.2, 12.2, 15.2, 18.3]]\n",
        "valores_pred = [[6.5, 9.2, 11.8, 16.7, 17.1]]\n",
        "mape = mean_absolute_percentage_error(valores_cierto, valores_pred)\n",
        "print(mape)\n",
        "\n",
        "# Para que de mape = 0 los array tienen que ser iguales\n",
        "valores_pred = [[5.2, 8.2, 12.2, 15.2, 18.3]]\n",
        "mape = mean_absolute_percentage_error(valores_cierto, valores_pred)\n",
        "print(mape)"
      ],
      "metadata": {
        "id": "0vsYXdRqB0TE",
        "colab": {
          "base_uri": "https://localhost:8080/"
        },
        "outputId": "5aaa3907-4978-48a6-f45a-408ef5f5c388"
      },
      "execution_count": 11,
      "outputs": [
        {
          "output_type": "stream",
          "name": "stdout",
          "text": [
            "0.11379921715524313\n",
            "0.0\n"
          ]
        }
      ]
    },
    {
      "cell_type": "code",
      "source": [
        "# Ejer 6: Crear dos matrices/arrays de valores ciertos y valores previstos, y calcular el MAPE.\n",
        "# ¿Qué valores deberían de tener el array pred para que el error fuese 0?\n",
        "\n",
        "# En este caso el mape sera de un 14% aproximadamente porque mape calcula cuánto de grande es los valores predichos con respecto a los grandes\n",
        "valores_cierto = [[5, 8], [12, 15], [18, 21]]\n",
        "valores_pred = [[6.8, 9.9], [11.5, 16.4], [17.8,22.9]]\n",
        "mape = mean_absolute_percentage_error(valores_cierto, valores_pred)\n",
        "print(mape)\n",
        "\n",
        "# Para que de mae = 0 los array tienen que ser iguales\n",
        "valores_pred = [[5, 8], [12, 15], [18,21]]\n",
        "mape = mean_absolute_percentage_error(valores_cierto, valores_pred)\n",
        "print(mape)"
      ],
      "metadata": {
        "id": "085pmFVO-cA3",
        "colab": {
          "base_uri": "https://localhost:8080/"
        },
        "outputId": "ec33dcc8-933b-4a91-f52a-747032e3413f"
      },
      "execution_count": 12,
      "outputs": [
        {
          "output_type": "stream",
          "name": "stdout",
          "text": [
            "0.13901455026455023\n",
            "0.0\n"
          ]
        }
      ]
    }
  ]
}